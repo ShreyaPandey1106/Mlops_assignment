{
  "nbformat": 4,
  "nbformat_minor": 0,
  "metadata": {
    "colab": {
      "provenance": []
    },
    "kernelspec": {
      "name": "python3",
      "display_name": "Python 3"
    },
    "language_info": {
      "name": "python"
    }
  },
  "cells": [
    {
      "cell_type": "markdown",
      "source": [
        "## MLOps Assignment 1"
      ],
      "metadata": {
        "id": "LlIGlcIiywyq"
      }
    },
    {
      "cell_type": "markdown",
      "source": [
        "Q1. Print multiplication table from 1 to 10"
      ],
      "metadata": {
        "id": "i3GplYoCqa89"
      }
    },
    {
      "cell_type": "code",
      "source": [
        "for i in range(1,11):\n",
        "  print(\"Table of {}\".format(i))\n",
        "  for j in range(1,11):\n",
        "    print(i*j, end=\" \")\n",
        "  print(\"\\n\")\n",
        ""
      ],
      "metadata": {
        "id": "Vfm5RBY0qbIs",
        "colab": {
          "base_uri": "https://localhost:8080/"
        },
        "outputId": "50187d4f-7b1f-4387-8d9e-84d21d36f60b"
      },
      "execution_count": 1,
      "outputs": [
        {
          "output_type": "stream",
          "name": "stdout",
          "text": [
            "Table of 1\n",
            "1 2 3 4 5 6 7 8 9 10 \n",
            "\n",
            "Table of 2\n",
            "2 4 6 8 10 12 14 16 18 20 \n",
            "\n",
            "Table of 3\n",
            "3 6 9 12 15 18 21 24 27 30 \n",
            "\n",
            "Table of 4\n",
            "4 8 12 16 20 24 28 32 36 40 \n",
            "\n",
            "Table of 5\n",
            "5 10 15 20 25 30 35 40 45 50 \n",
            "\n",
            "Table of 6\n",
            "6 12 18 24 30 36 42 48 54 60 \n",
            "\n",
            "Table of 7\n",
            "7 14 21 28 35 42 49 56 63 70 \n",
            "\n",
            "Table of 8\n",
            "8 16 24 32 40 48 56 64 72 80 \n",
            "\n",
            "Table of 9\n",
            "9 18 27 36 45 54 63 72 81 90 \n",
            "\n",
            "Table of 10\n",
            "10 20 30 40 50 60 70 80 90 100 \n",
            "\n"
          ]
        }
      ]
    },
    {
      "cell_type": "markdown",
      "source": [
        "Q2. Given two lists, l1 and l2, write a program to create a third list l3 by picking an odd-index element from the list l1 and even index elements from the list l2."
      ],
      "metadata": {
        "id": "kCxjfhGtiMFb"
      }
    },
    {
      "cell_type": "code",
      "source": [
        "l1= [1,2,45,35,89]\n",
        "l2= ['s','h','r','e','y','a']\n",
        "l3= []\n",
        "\n",
        "for i in range(1, len(l1),2):\n",
        "  l3.append(l1[i])\n",
        "\n",
        "for i in range(0, len(l2),2):\n",
        "  l3.append(l2[i])\n",
        "\n",
        "print(\"list1 = {}\".format(l1))\n",
        "print(\"list2 = {}\".format(l2))\n",
        "print(\"list3 = {}\".format(l3))"
      ],
      "metadata": {
        "id": "r1lkQPN8iNSc",
        "colab": {
          "base_uri": "https://localhost:8080/"
        },
        "outputId": "dcf0d641-f6c9-4892-a5be-5bbb70bf87ad"
      },
      "execution_count": 3,
      "outputs": [
        {
          "output_type": "stream",
          "name": "stdout",
          "text": [
            "list1 = [1, 2, 45, 35, 89]\n",
            "list2 = ['s', 'h', 'r', 'e', 'y', 'a']\n",
            "list3 = [2, 35, 's', 'r', 'y']\n"
          ]
        }
      ]
    },
    {
      "cell_type": "markdown",
      "source": [
        "Q3. Print a this pattern(*)\n",
        "\n",
        "    * * * * * * * *\n",
        "      * * * * * * *\n",
        "        * * * * * *\n",
        "          * * * * *\n",
        "            * * * *\n",
        "              * * *\n",
        "                * *\n",
        "                  *"
      ],
      "metadata": {
        "id": "GBb0FgtIq4YA"
      }
    },
    {
      "cell_type": "code",
      "source": [
        "n= int(input(\"Enter a value : \"))\n",
        "\n",
        "for i in range(n):       #For rows\n",
        "  for j in range(i):\n",
        "    print(\" \",end=\" \")\n",
        "  for j in range(i,n):\n",
        "    print(\"*\",end=\" \")\n",
        "  print(\"\\n\")"
      ],
      "metadata": {
        "id": "rfbGzuA3rcGs",
        "colab": {
          "base_uri": "https://localhost:8080/"
        },
        "outputId": "7db649a9-8e3c-4b67-d613-848764c1ee82"
      },
      "execution_count": 5,
      "outputs": [
        {
          "output_type": "stream",
          "name": "stdout",
          "text": [
            "Enter a value : 8\n",
            "* * * * * * * * \n",
            "\n",
            "  * * * * * * * \n",
            "\n",
            "    * * * * * * \n",
            "\n",
            "      * * * * * \n",
            "\n",
            "        * * * * \n",
            "\n",
            "          * * * \n",
            "\n",
            "            * * \n",
            "\n",
            "              * \n",
            "\n"
          ]
        }
      ]
    },
    {
      "cell_type": "markdown",
      "source": [
        "Q4. Create a function named `exponent(base, exp)` that returns an integer representing the result of raising `base` to the power of `exp`.\n",
        "`exp` is >0.\n",
        "\n",
        "base = 5\n",
        "exponent = 4\n",
        "\n",
        "5 raises to the power of 4 is: 625\n",
        "i.e. (5 *5 * 5 *5 = 625)"
      ],
      "metadata": {
        "id": "WIblh-z6s9me"
      }
    },
    {
      "cell_type": "code",
      "source": [
        "b= int(input(\"Enter a value for base : \"))\n",
        "e= int(input(\"Enter a value for exponent : \"))\n",
        "\n",
        "print(\"{} raises to the power of {} is: {}\".format(b,e,b**e))"
      ],
      "metadata": {
        "id": "6-KKDQNWs8eQ",
        "colab": {
          "base_uri": "https://localhost:8080/"
        },
        "outputId": "af3f1f32-5716-4eb0-f4b0-68ec4ecbed07"
      },
      "execution_count": 6,
      "outputs": [
        {
          "output_type": "stream",
          "name": "stdout",
          "text": [
            "Enter a value for base : 5\n",
            "Enter a value for exponent : 4\n",
            "5 raises to the power of 4 is: 625\n"
          ]
        }
      ]
    },
    {
      "cell_type": "markdown",
      "source": [
        "Q5. Create a file named test.txt and insert the following content into it.\n",
        "\n",
        "    line1\n",
        "    line2\n",
        "    line3\n",
        "    line4\n",
        "    line5\n",
        "    line6\n",
        "    line7\n",
        "\n",
        "Write a program which write all content of a given file (test.txt) into a new file by skipping line number 5 (line5)"
      ],
      "metadata": {
        "id": "_QUrD8h6t6PN"
      }
    },
    {
      "cell_type": "code",
      "source": [
        "text= \"line1 \\nline2 \\nline3 \\nline4 \\nline5 \\nline6 \\nline7\"\n",
        "\n",
        "with open(\"test.txt\",\"w\") as file:               #Inserting content in a file\n",
        "  file.write(text)\n",
        "\n",
        "with open(\"test.txt\",\"r\") as file:              #Reading the file\n",
        "  content= file.read()\n",
        "\n",
        "print(content)\n"
      ],
      "metadata": {
        "id": "I2KF1QHKrq-s",
        "colab": {
          "base_uri": "https://localhost:8080/"
        },
        "outputId": "ab93cef4-1729-4f18-95ee-b1df5c6366b9"
      },
      "execution_count": 7,
      "outputs": [
        {
          "output_type": "stream",
          "name": "stdout",
          "text": [
            "line1 \n",
            "line2 \n",
            "line3 \n",
            "line4 \n",
            "line5 \n",
            "line6 \n",
            "line7\n"
          ]
        }
      ]
    },
    {
      "cell_type": "markdown",
      "source": [
        "Q6. Write a program which receives three names from the user in a single input() function call.\n",
        "\n",
        "    Input: IIT JODHPUR RAJASTHAN\n",
        "\n",
        "    Output:\n",
        "    IIT\n",
        "    JODHPUR\n",
        "    RAJASTHAN"
      ],
      "metadata": {
        "id": "6cdAt0ONvMVI"
      }
    },
    {
      "cell_type": "code",
      "source": [
        "name1,name2,name3= input(\"Enter the names : \").split()\n",
        "print(name1)\n",
        "print(name2)\n",
        "print(name3)\n"
      ],
      "metadata": {
        "id": "Mo0wyeB6vJJm",
        "colab": {
          "base_uri": "https://localhost:8080/"
        },
        "outputId": "7f16125d-b44b-4817-c309-5f5023ab9db7"
      },
      "execution_count": 13,
      "outputs": [
        {
          "output_type": "stream",
          "name": "stdout",
          "text": [
            "Enter the names : Shreya Sushil Pandey\n",
            "Shreya\n",
            "Sushil\n",
            "Pandey\n"
          ]
        }
      ]
    },
    {
      "cell_type": "markdown",
      "source": [
        "Q7. Write a program to define a function called show_employee() with the following requirements:\n",
        "\n",
        "*   It should take the employee's name and salary as input and display both.\n",
        "*   If the salary is not provided in the function call, assign a default value of 9000 to it.\n",
        "\n",
        "After passing:\n",
        "\n",
        "showEmployee(\"Bill Gates\", 12000)\n",
        "\n",
        "showEmployee(\"Elon Musk\")\n",
        "\n",
        "It should print:\n",
        "\n",
        "Name: Bill Gates salary: 12000\n",
        "\n",
        "Name: Elon Musk salary: 9000"
      ],
      "metadata": {
        "id": "jwSKpPcYv_De"
      }
    },
    {
      "cell_type": "code",
      "source": [
        "def show_employee(name, salary= 9000):\n",
        "    print(\"Name: {} salary: {}\".format(name,salary))\n",
        "\n",
        "show_employee(\"Bill Gates\", 12000)\n",
        "\n",
        "show_employee(\"Elon Musk\")"
      ],
      "metadata": {
        "id": "yyzhkF1Lv94j",
        "colab": {
          "base_uri": "https://localhost:8080/"
        },
        "outputId": "c04c3d75-17b0-4f32-96fb-0a03e89c999d"
      },
      "execution_count": 19,
      "outputs": [
        {
          "output_type": "stream",
          "name": "stdout",
          "text": [
            "Name: Bill Gates salary: 12000\n",
            "Name: Elon Musk salary: 9000\n"
          ]
        }
      ]
    },
    {
      "cell_type": "markdown",
      "source": [
        "Q8. Write a program to identify words that contain both letters and digits from a given input string.\n",
        "\n",
        "    Given str1 = \"Harry25 is Gryffindor Wizard50 and cursed\"\n",
        "\n",
        "    Output:\n",
        "    Harry25\n",
        "    Wizard50"
      ],
      "metadata": {
        "id": "BAtCQH3pxXWV"
      }
    },
    {
      "cell_type": "code",
      "source": [
        "import re\n",
        "\n",
        "def solution(sentence):\n",
        "  li=[]\n",
        "  words= sentence.split()\n",
        "  for word in words:\n",
        "    flag = re.search(r'[a-zA-Z]+', word) and re.search(r'[0-9]+', word)       #using regex to match letter and digit\n",
        "    if flag!=None:\n",
        "      li.append(word)\n",
        "  return li\n",
        "\n",
        "s= input(\"Enter the string : \")\n",
        "ans= solution(s)\n",
        "\n",
        "for i in ans:\n",
        "  print(i)\n"
      ],
      "metadata": {
        "id": "bqbyxYdqvJHY",
        "colab": {
          "base_uri": "https://localhost:8080/"
        },
        "outputId": "78b7bed3-4159-4371-d170-2ceb9b0921ac"
      },
      "execution_count": 30,
      "outputs": [
        {
          "output_type": "stream",
          "name": "stdout",
          "text": [
            "Enter the string : Harry25 is Gryffindor Wizard50 and cursed\n",
            "Harry25\n",
            "Wizard50\n"
          ]
        }
      ]
    },
    {
      "cell_type": "markdown",
      "source": [
        "Q9. Write a program to substitute each special character in the given string with the symbol #.\n",
        "\n",
        "    Given: str1 = '/*Modi is @Politician & Melony!!'\n",
        "\n",
        "    Output: ##Modi is #Politician # Melony##"
      ],
      "metadata": {
        "id": "Ev6TIw7oyGzJ"
      }
    },
    {
      "cell_type": "code",
      "source": [
        "def solution(sentence):\n",
        "  ans=''\n",
        "  for i in range(len(sentence)):\n",
        "   if not(sentence[i].isalnum()==True or sentence[i].isspace()==True ):    #checking if the character is special\n",
        "    ans= ans[:i]+'#'                                                       #repalcing special characters\n",
        "   else:\n",
        "    ans= ans[:i]+sentence[i]\n",
        "  return ans\n",
        "\n",
        "s= input(\"Enter the string : \")\n",
        "print(solution(s))"
      ],
      "metadata": {
        "id": "Hbg92hJtvJE7",
        "colab": {
          "base_uri": "https://localhost:8080/"
        },
        "outputId": "1d76f106-15ab-4b07-ce2d-552ac5100d9b"
      },
      "execution_count": 48,
      "outputs": [
        {
          "output_type": "stream",
          "name": "stdout",
          "text": [
            "Enter the string : /*Modi is @Politician & Melony!!\n",
            "##Modi is #Politician # Melony##\n"
          ]
        }
      ]
    },
    {
      "cell_type": "markdown",
      "source": [
        "Q10. Construct a Python set that displays elements from both lists as pairs.\n",
        "\n",
        "    Given:\n",
        "\n",
        "    first_list = [2, 3, 4, 5, 6, 7, 8]\n",
        "    second_list = [4, 9, 16, 25, 36, 49, 64]\n",
        "    Output: Result is  {(6, 36), (8, 64), (4, 16), (5, 25), (3, 9), (7, 49), (2, 4)}"
      ],
      "metadata": {
        "id": "L9zg8k_XyoMz"
      }
    },
    {
      "cell_type": "code",
      "source": [
        "l1= [2, 3, 4, 5, 6, 7, 8]\n",
        "l2= [4, 9, 16, 25, 36, 49, 64]\n",
        "\n",
        "ans=set()\n",
        "for i in range(len(l1)):   #For creating pairs\n",
        "  ans.add((l1[i],l2[i]))   #inserting in the set\n",
        "print(ans)"
      ],
      "metadata": {
        "id": "aSBw6V0OvJCS",
        "colab": {
          "base_uri": "https://localhost:8080/"
        },
        "outputId": "d3eb1e12-6cdd-491d-d8de-b686f9dc8438"
      },
      "execution_count": 53,
      "outputs": [
        {
          "output_type": "stream",
          "name": "stdout",
          "text": [
            "{(7, 49), (2, 4), (4, 16), (8, 64), (6, 36), (3, 9), (5, 25)}\n"
          ]
        }
      ]
    },
    {
      "cell_type": "markdown",
      "source": [
        "Q11. Define two set A and B consisting of 5 elements. Now print the element after performing\n",
        "\n",
        "\n",
        "      1.   A-B\n",
        "      2.   B-A\n",
        "      3.   A∩B\n",
        "      4.   A∪B\n",
        "\n",
        "\n"
      ],
      "metadata": {
        "id": "JHa0SMOozZo9"
      }
    },
    {
      "cell_type": "code",
      "source": [
        "A = {9, 7, 1, 8, 5}\n",
        "B= {8, 3, 4, 9, 2}\n",
        "\n",
        "print(A.difference(B)) #A-B\n",
        "print(B.difference(A)) #B-A\n",
        "print(A.intersection(B)) #A∩B\n",
        "print(A.union(B)) #A∪B\n"
      ],
      "metadata": {
        "id": "r9vL1bpHzZGg",
        "colab": {
          "base_uri": "https://localhost:8080/"
        },
        "outputId": "918f453a-458a-46ea-a229-48ffaee47214"
      },
      "execution_count": 55,
      "outputs": [
        {
          "output_type": "stream",
          "name": "stdout",
          "text": [
            "{1, 5, 7}\n",
            "{2, 3, 4}\n",
            "{8, 9}\n",
            "{1, 2, 3, 4, 5, 7, 8, 9}\n"
          ]
        }
      ]
    },
    {
      "cell_type": "markdown",
      "source": [
        "## Object Oriented Programming Exercise 1:\n",
        "\n",
        "[Classes and Objects in Python](https://pynative.com/python-classes-and-objects/)\n",
        "\n",
        "[Instance variables in Python](https://pynative.com/python-instance-variables/)"
      ],
      "metadata": {
        "id": "UFjTtL_i00dz"
      }
    },
    {
      "cell_type": "markdown",
      "source": [
        "Q12. Create a Vehicle class with max_speed and mileage instance attributes."
      ],
      "metadata": {
        "id": "-PQELvq41z5B"
      }
    },
    {
      "cell_type": "code",
      "source": [
        "class Vehicle:\n",
        "  def __init__(self, max_speed, mileage):\n",
        "      self.max_speed = max_speed\n",
        "      self.mileage = mileage\n",
        "  def display(self):\n",
        "    print(\"Max speed= {}, mileage={}\".format(self.max_speed, self.mileage))\n",
        "\n",
        "v1= Vehicle(100, 10000)\n",
        "v2= Vehicle(200, 20000)\n",
        "v1.display()\n",
        "v2.display()"
      ],
      "metadata": {
        "id": "Wa16l5-C0z3Z",
        "colab": {
          "base_uri": "https://localhost:8080/"
        },
        "outputId": "4dc7e2d5-c6b0-4e29-808f-79dad3a455fd"
      },
      "execution_count": 57,
      "outputs": [
        {
          "output_type": "stream",
          "name": "stdout",
          "text": [
            "Max speed= 100, mileage=10000\n",
            "Max speed= 200, mileage=20000\n"
          ]
        }
      ]
    },
    {
      "cell_type": "markdown",
      "source": [
        "Q13. Create a child class Bus that will inherit all of the variables and methods of the Vehicle class.\n",
        "\n",
        "Create a Bus object that will inherit all of the variables and methods of the parent Vehicle class and display it."
      ],
      "metadata": {
        "id": "-Japqg35177L"
      }
    },
    {
      "cell_type": "code",
      "source": [
        "class Vehicle:                                #Parent Class\n",
        "  def __init__(self, max_speed, mileage):\n",
        "      self.max_speed = max_speed\n",
        "      self.mileage = mileage\n",
        "\n",
        "\n",
        "class Bus(Vehicle):                           #Child Class\n",
        "  def __init__(self, max_speed, mileage, purpose):\n",
        "      super().__init__(max_speed, mileage)\n",
        "      self.purpose= purpose\n",
        "\n",
        "  def display(self):\n",
        "    print(\"Max speed= {}, mileage={}, purpose={}\".format(self.max_speed, self.mileage, self.purpose))\n",
        "\n",
        "b1= Bus(60, 37000, \"city bus\")\n",
        "b2= Bus(100, 65000, \"intercity\")\n",
        "b1.display()\n",
        "b2.display()"
      ],
      "metadata": {
        "id": "nUvpX3qR2Upg",
        "colab": {
          "base_uri": "https://localhost:8080/"
        },
        "outputId": "0c8b16de-f6ee-48cb-b835-00faf3a4717d"
      },
      "execution_count": 62,
      "outputs": [
        {
          "output_type": "stream",
          "name": "stdout",
          "text": [
            "Max speed= 60, mileage=37000, purpose=city bus\n",
            "Max speed= 100, mileage=65000, purpose=intercity\n"
          ]
        }
      ]
    },
    {
      "cell_type": "markdown",
      "source": [
        "### Class Inheritance\n",
        "\n",
        "Q14. Create a Bus class that inherits from the Vehicle class. Give the capacity argument of Bus.seating_capacity() a default value of 50.\n",
        "\n",
        "Use the following code for your parent Vehicle class.\n",
        "\n",
        "    class Vehicle:\n",
        "      def __init__(self, name, max_speed, mileage):\n",
        "          self.name = name\n",
        "          self.max_speed = max_speed\n",
        "          self.mileage = mileage\n",
        "\n",
        "      def seating_capacity(self, capacity):\n",
        "          return f\"The seating capacity of a {self.name} is {capacity} passengers\"\n",
        "\n",
        "Expected Output:\n",
        "\n",
        "    The seating capacity of a bus is 50 passengers"
      ],
      "metadata": {
        "id": "fPFfg2Hh2VBe"
      }
    },
    {
      "cell_type": "code",
      "source": [
        "class Vehicle:\n",
        "  def __init__(self, name, max_speed, mileage):\n",
        "      self.name = name\n",
        "      self.max_speed = max_speed\n",
        "      self.mileage = mileage\n",
        "\n",
        "  def seating_capacity(self, capacity):\n",
        "      return f\"The seating capacity of a {self.name} is {capacity} passengers\"\n",
        "\n",
        "class Bus(Vehicle):\n",
        "  def seating_capacity(self, capacity=50):\n",
        "      return super().seating_capacity(capacity)\n",
        "\n",
        "b1= Bus(\"City Bus\", 70, 10)\n",
        "print(b1.seating_capacity())\n",
        "print(b1.seating_capacity(60))\n"
      ],
      "metadata": {
        "id": "TKalMy1B2_Ix",
        "colab": {
          "base_uri": "https://localhost:8080/"
        },
        "outputId": "9f149884-8d95-4060-9eb2-7bdfcfe47303"
      },
      "execution_count": 2,
      "outputs": [
        {
          "output_type": "stream",
          "name": "stdout",
          "text": [
            "The seating capacity of a City Bus is 50 passengers\n",
            "The seating capacity of a City Bus is 60 passengers\n"
          ]
        }
      ]
    },
    {
      "cell_type": "markdown",
      "source": [
        "Q15. Create a Bus subclass that inherits from the Vehicle class. By default, the fare for any vehicle is calculated as the seating capacity multiplied by 100. For instances of the Bus class, an additional 10% maintenance fee should be applied to the total fare. Therefore, the final fare for a bus instance will be the sum of the total fare plus an additional 10% of that total fare.\n",
        "\n",
        "Note: The bus has a seating capacity of 50, so the final fare amount should be 5500. You need to override the fare() method from the Vehicle class in the Bus class.\n",
        "\n",
        "Use the provided code for the parent Vehicle class. You should access the parent class within a method of the child class.\n",
        "\n",
        "    class Vehicle:\n",
        "      def __init__(self, name, mileage, capacity):\n",
        "        self.name = name\n",
        "        self.mileage = mileage\n",
        "        self.capacity = capacity\n",
        "\n",
        "      def fare(self):\n",
        "        return self.capacity * 100\n",
        "\n",
        "    class Bus(Vehicle):\n",
        "        pass\n",
        "        School_bus = Bus(\"School Volvo\", 12, 50)\n",
        "        print(\"Total Bus fare is:\", School_bus.fare())\n",
        "\n",
        "    Expected Output:\n",
        "\n",
        "    Total Bus fare is: 5500.0"
      ],
      "metadata": {
        "id": "kenJ766m2_jc"
      }
    },
    {
      "cell_type": "code",
      "source": [
        "class Vehicle:\n",
        "  def __init__(self, name, mileage, capacity):  #Parent class\n",
        "    self.name = name\n",
        "    self.mileage = mileage\n",
        "    self.capacity = capacity\n",
        "\n",
        "  def fare(self):\n",
        "    return self.capacity * 100\n",
        "\n",
        "class Bus(Vehicle):              #Child class\n",
        "    def fare(self):              #Overriding fare method\n",
        "      f= super().fare()\n",
        "      return f+(0.1)*f\n",
        "\n",
        "\n",
        "School_bus = Bus(\"School Volvo\", 12, 50)\n",
        "print(\"Total Bus fare is:\", School_bus.fare())"
      ],
      "metadata": {
        "id": "jY3Z5SsY_iaQ",
        "colab": {
          "base_uri": "https://localhost:8080/"
        },
        "outputId": "e137ec75-ee70-4832-cda4-3b390ab5f39d"
      },
      "execution_count": 3,
      "outputs": [
        {
          "output_type": "stream",
          "name": "stdout",
          "text": [
            "Total Bus fare is: 5500.0\n"
          ]
        }
      ]
    },
    {
      "cell_type": "markdown",
      "source": [
        "### Python JSON Exercise\n",
        "Refer: [Python JSON tutorials](https://pynative.com/python/json/)"
      ],
      "metadata": {
        "id": "3wMvLEkk_nWE"
      }
    },
    {
      "cell_type": "markdown",
      "source": [
        "Q16. Convert the following dictionary into JSON format\n",
        "\n",
        "    data = {\"key1\" : \"value1\", \"key2\" : \"value2\"}\n",
        "    data = {\"key1\" : \"value1\", \"key2\" : \"value2\"}"
      ],
      "metadata": {
        "id": "zVIiuI0PAcuT"
      }
    },
    {
      "cell_type": "code",
      "source": [
        "import json\n",
        "\n",
        "data = {\"key1\" : \"value1\", \"key2\" : \"value2\"}\n",
        "\n",
        "newData= json.dumps(data)            #Converting to json data\n",
        "print(newData)"
      ],
      "metadata": {
        "id": "Z5M47OYS_mhA",
        "colab": {
          "base_uri": "https://localhost:8080/"
        },
        "outputId": "5e3c4b38-731d-4112-cba0-cb30390635a8"
      },
      "execution_count": 5,
      "outputs": [
        {
          "output_type": "stream",
          "name": "stdout",
          "text": [
            "{\"key1\": \"value1\", \"key2\": \"value2\"}\n"
          ]
        }
      ]
    },
    {
      "cell_type": "markdown",
      "source": [
        "Q17. Sort JSON keys in and write them into a file\n",
        "\n",
        "    sampleJson = {\"id\" : 1, \"name\" : \"value2\", \"age\" : 29}\n",
        "\n",
        "    {\n",
        "          \"age\": 29,\n",
        "          \"id\": 1,\n",
        "          \"name\": \"value2\"\n",
        "    }"
      ],
      "metadata": {
        "id": "8eE35QccA_X-"
      }
    },
    {
      "cell_type": "code",
      "source": [
        "import json\n",
        "\n",
        "sampleJson = {\"id\" : 1, \"name\" : \"value2\", \"age\" : 29}\n",
        "\n",
        "jsonData= json.dumps(sampleJson, sort_keys=True)          #Converting to json data and sorting\n",
        "\n",
        "with open(\"test.txt\",\"w\") as file:            #Writing in a file\n",
        "  file.write(jsonData)\n",
        "\n",
        "with open(\"test.txt\",\"r\") as file:              #For checking whether the data is stored or not\n",
        "  content=file.read()\n",
        "\n",
        "print(content)"
      ],
      "metadata": {
        "id": "jLG5tk_X_j5O",
        "colab": {
          "base_uri": "https://localhost:8080/"
        },
        "outputId": "d242d32b-fa45-48c5-bb31-4b7f7ae0dd7a"
      },
      "execution_count": 7,
      "outputs": [
        {
          "output_type": "stream",
          "name": "stdout",
          "text": [
            "{\"age\": 29, \"id\": 1, \"name\": \"value2\"}\n"
          ]
        }
      ]
    }
  ]
}